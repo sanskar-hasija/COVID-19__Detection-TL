{
 "cells": [
  {
   "cell_type": "markdown",
   "id": "headed-least",
   "metadata": {},
   "source": [
    "## IMPORTS"
   ]
  },
  {
   "cell_type": "code",
   "execution_count": 1,
   "id": "armed-curve",
   "metadata": {},
   "outputs": [],
   "source": [
    "import tensorflow as tf\n",
    "import numpy as np \n",
    "import pandas as pd\n",
    "import matplotlib.pyplot as plt\n",
    "import cv2\n",
    "import os"
   ]
  },
  {
   "cell_type": "code",
   "execution_count": 2,
   "id": "collaborative-shareware",
   "metadata": {},
   "outputs": [],
   "source": [
    "from functions import train_index_updater\n",
    "from functions import data_constructor\n",
    "from functions import dataframe_generator\n",
    "from functions import index_generator\n",
    "from functions import load_labels"
   ]
  },
  {
   "cell_type": "markdown",
   "id": "selected-decade",
   "metadata": {},
   "source": [
    "## SETTING UP PARAMETERS AND DIRECTORIES"
   ]
  },
  {
   "cell_type": "code",
   "execution_count": 3,
   "id": "valid-guest",
   "metadata": {},
   "outputs": [],
   "source": [
    "SEED = 12\n",
    "IMG_HEIGHT = 128\n",
    "IMG_WIDTH = 128\n",
    "DIM = (IMG_HEIGHT, IMG_WIDTH)\n",
    "TRAIN_SET= 143778\n",
    "VALID_SET= 25486\n",
    "EPOCHS = 25\n",
    "BS = 32\n",
    "LR = 0.01\n",
    "n=50000\n",
    "label_file_train = \"C:\\project\\data\\\\train_COVIDx_CT-2A.txt\"\n",
    "label_file_valid = \"C:\\project\\data\\\\val_COVIDx_CT-2A.txt\""
   ]
  },
  {
   "cell_type": "markdown",
   "id": "little-summer",
   "metadata": {},
   "source": [
    "## LOADING DATA"
   ]
  },
  {
   "cell_type": "code",
   "execution_count": 4,
   "id": "curious-shelf",
   "metadata": {},
   "outputs": [
    {
     "data": {
      "image/png": "[encoded data removed]",
      "text/plain": [
       "<Figure size 432x288 with 1 Axes>"
      ]
     },
     "metadata": {
      "needs_background": "light"
     },
     "output_type": "display_data"
    }
   ],
   "source": [
    "fnames_train , classes_train ,bboxes_train = load_labels(label_file_train)\n",
    "fnames_valid , classes_valid ,bboxes_valid = load_labels(label_file_valid)\n",
    "train_index = index_generator(fnames_train , TRAIN_SET)\n",
    "valid_index = index_generator(fnames_valid , VALID_SET)\n",
    "train_index_updated = train_index_updater(classes_train,train_index,n )\n",
    "df = dataframe_generator(train_index_updated, valid_index , classes_train , classes_valid)\n",
    "df.plot.bar( title = \"Image Distribution\" );"
   ]
  },
  {
   "cell_type": "markdown",
   "id": "neutral-wallace",
   "metadata": {},
   "source": [
    "## Loading Training and Validation Images"
   ]
  },
  {
   "cell_type": "code",
   "execution_count": 5,
   "id": "otherwise-market",
   "metadata": {},
   "outputs": [],
   "source": [
    "x_train, y_train = data_constructor(fnames_train,classes_train, DIM , index  =train_index_updated ,bboxes = bboxes_train )\n",
    "x_valid , y_valid= data_constructor(fnames_valid,classes_valid, DIM , index  =valid_index , bboxes = bboxes_valid )"
   ]
  },
  {
   "cell_type": "markdown",
   "id": "according-affect",
   "metadata": {},
   "source": [
    "## Pre-Processing"
   ]
  },
  {
   "cell_type": "code",
   "execution_count": 6,
   "id": "irish-medicaid",
   "metadata": {},
   "outputs": [],
   "source": [
    "data_generator = tf.keras.preprocessing.image.ImageDataGenerator(horizontal_flip=True,zoom_range=0.05,width_shift_range=0.2 ,height_shift_range=0.1,shear_range=0.05)## ENTER YOUR AUG HERE\n",
    "train_generator = data_generator.flow(x_train, y_train, BS)\n",
    "spe = x_train.shape[0] // BS"
   ]
  },
  {
   "cell_type": "markdown",
   "id": "polished-dealer",
   "metadata": {},
   "source": [
    "## MODEL DESIGN"
   ]
  },
  {
   "cell_type": "code",
   "execution_count": 7,
   "id": "honest-declaration",
   "metadata": {},
   "outputs": [],
   "source": [
    "from tensorflow.keras.layers import GlobalAveragePooling2D\n",
    "from tensorflow.keras.layers import Dropout\n",
    "from tensorflow.keras.layers import Dense\n",
    "from tensorflow.keras.layers import Input\n",
    "from tensorflow.keras.models import Model\n",
    "from tensorflow.keras.layers import Dropout\n",
    "from tensorflow.keras.layers import Conv2D\n",
    "from tensorflow.keras.layers import BatchNormalization \n",
    "from tensorflow.keras.layers import MaxPooling2D \n",
    "from tensorflow.keras.layers import Flatten \n",
    "from tensorflow.keras.layers import Activation \n",
    "from tensorflow.keras.models import Model\n",
    "from tensorflow.keras.models import Sequential"
   ]
  },
  {
   "cell_type": "code",
   "execution_count": 8,
   "id": "religious-creator",
   "metadata": {},
   "outputs": [],
   "source": [
    "AlexNet = Sequential()\n",
    "\n",
    "#1st Convolutional Layer\n",
    "AlexNet.add(Conv2D(filters=96, input_shape=(128,128,3), kernel_size=(11,11), strides=(4,4), padding='same'))\n",
    "AlexNet.add(BatchNormalization())\n",
    "AlexNet.add(Activation('relu'))\n",
    "AlexNet.add(MaxPooling2D(pool_size=(2,2), strides=(2,2), padding='same'))\n",
    "\n",
    "#2nd Convolutional Layer\n",
    "AlexNet.add(Conv2D(filters=256, kernel_size=(5, 5), strides=(1,1), padding='same'))\n",
    "AlexNet.add(BatchNormalization())\n",
    "AlexNet.add(Activation('relu'))\n",
    "AlexNet.add(MaxPooling2D(pool_size=(2,2), strides=(2,2), padding='same'))\n",
    "\n",
    "#3rd Convolutional Layer\n",
    "AlexNet.add(Conv2D(filters=384, kernel_size=(3,3), strides=(1,1), padding='same'))\n",
    "AlexNet.add(BatchNormalization())\n",
    "AlexNet.add(Activation('relu'))\n",
    "\n",
    "#4th Convolutional Layer\n",
    "AlexNet.add(Conv2D(filters=384, kernel_size=(3,3), strides=(1,1), padding='same'))\n",
    "AlexNet.add(BatchNormalization())\n",
    "AlexNet.add(Activation('relu'))\n",
    "\n",
    "#5th Convolutional Layer\n",
    "AlexNet.add(Conv2D(filters=256, kernel_size=(3,3), strides=(1,1), padding='same'))\n",
    "AlexNet.add(BatchNormalization())\n",
    "AlexNet.add(Activation('relu'))\n",
    "AlexNet.add(MaxPooling2D(pool_size=(2,2), strides=(2,2), padding='same'))\n",
    "\n",
    "#Passing it to a Fully Connected layer\n",
    "AlexNet.add(GlobalAveragePooling2D())\n",
    "AlexNet.add(Dense(3))\n",
    "AlexNet.add(Activation('softmax'))"
   ]
  },
  {
   "cell_type": "code",
   "execution_count": 9,
   "id": "joint-avenue",
   "metadata": {},
   "outputs": [
    {
     "name": "stdout",
     "output_type": "stream",
     "text": [
      "Model: \"sequential\"\n",
      "_________________________________________________________________\n",
      "Layer (type)                 Output Shape              Param #   \n",
      "=================================================================\n",
      "conv2d (Conv2D)              (None, 32, 32, 96)        34944     \n",
      "_________________________________________________________________\n",
      "batch_normalization (BatchNo (None, 32, 32, 96)        384       \n",
      "_________________________________________________________________\n",
      "activation (Activation)      (None, 32, 32, 96)        0         \n",
      "_________________________________________________________________\n",
      "max_pooling2d (MaxPooling2D) (None, 16, 16, 96)        0         \n",
      "_________________________________________________________________\n",
      "conv2d_1 (Conv2D)            (None, 16, 16, 256)       614656    \n",
      "_________________________________________________________________\n",
      "batch_normalization_1 (Batch (None, 16, 16, 256)       1024      \n",
      "_________________________________________________________________\n",
      "activation_1 (Activation)    (None, 16, 16, 256)       0         \n",
      "_________________________________________________________________\n",
      "max_pooling2d_1 (MaxPooling2 (None, 8, 8, 256)         0         \n",
      "_________________________________________________________________\n",
      "conv2d_2 (Conv2D)            (None, 8, 8, 384)         885120    \n",
      "_________________________________________________________________\n",
      "batch_normalization_2 (Batch (None, 8, 8, 384)         1536      \n",
      "_________________________________________________________________\n",
      "activation_2 (Activation)    (None, 8, 8, 384)         0         \n",
      "_________________________________________________________________\n",
      "conv2d_3 (Conv2D)            (None, 8, 8, 384)         1327488   \n",
      "_________________________________________________________________\n",
      "batch_normalization_3 (Batch (None, 8, 8, 384)         1536      \n",
      "_________________________________________________________________\n",
      "activation_3 (Activation)    (None, 8, 8, 384)         0         \n",
      "_________________________________________________________________\n",
      "conv2d_4 (Conv2D)            (None, 8, 8, 256)         884992    \n",
      "_________________________________________________________________\n",
      "batch_normalization_4 (Batch (None, 8, 8, 256)         1024      \n",
      "_________________________________________________________________\n",
      "activation_4 (Activation)    (None, 8, 8, 256)         0         \n",
      "_________________________________________________________________\n",
      "max_pooling2d_2 (MaxPooling2 (None, 4, 4, 256)         0         \n",
      "_________________________________________________________________\n",
      "global_average_pooling2d (Gl (None, 256)               0         \n",
      "_________________________________________________________________\n",
      "dense (Dense)                (None, 3)                 771       \n",
      "_________________________________________________________________\n",
      "activation_5 (Activation)    (None, 3)                 0         \n",
      "=================================================================\n",
      "Total params: 3,753,475\n",
      "Trainable params: 3,750,723\n",
      "Non-trainable params: 2,752\n",
      "_________________________________________________________________\n"
     ]
    }
   ],
   "source": [
    "AlexNet.summary()"
   ]
  },
  {
   "cell_type": "code",
   "execution_count": 10,
   "id": "radio-anime",
   "metadata": {},
   "outputs": [],
   "source": [
    "AlexNet.compile(optimizer=tf.keras.optimizers.SGD(LR),\n",
    "              loss = \"sparse_categorical_crossentropy\",\n",
    "              metrics = [\"accuracy\"])"
   ]
  },
  {
   "cell_type": "code",
   "execution_count": 11,
   "id": "aerial-attachment",
   "metadata": {},
   "outputs": [],
   "source": [
    "from tensorflow.keras.callbacks import ModelCheckpoint\n",
    "modelsdir = \"models/AlexNet\"\n",
    "checkpoint = ModelCheckpoint(filepath = modelsdir + \"/SGD.{epoch:02d}-{val_accuracy:.4f}.h5\" ,\n",
    "                             monitor= \"val_accuracy\" , \n",
    "                             mode = \"max\",\n",
    "                            verbose = 0,\n",
    "                            save_best_only=True)"
   ]
  },
  {
   "cell_type": "code",
   "execution_count": 12,
   "id": "closed-wonder",
   "metadata": {},
   "outputs": [
    {
     "name": "stdout",
     "output_type": "stream",
     "text": [
      "WARNING:tensorflow:sample_weight modes were coerced from\n",
      "  ...\n",
      "    to  \n",
      "  ['...']\n",
      "Train for 3487 steps, validate on 25486 samples\n",
      "Epoch 1/25\n",
      "3487/3487 [==============================] - 497s 143ms/step - loss: 0.3230 - accuracy: 0.8724 - val_loss: 2.3736 - val_accuracy: 0.4457\n",
      "Epoch 2/25\n",
      "3487/3487 [==============================] - 486s 139ms/step - loss: 0.1915 - accuracy: 0.9302 - val_loss: 0.4798 - val_accuracy: 0.8077\n",
      "Epoch 3/25\n",
      "3487/3487 [==============================] - 509s 146ms/step - loss: 0.1556 - accuracy: 0.9444 - val_loss: 0.3578 - val_accuracy: 0.8540\n",
      "Epoch 4/25\n",
      "3487/3487 [==============================] - 532s 152ms/step - loss: 0.1342 - accuracy: 0.9524 - val_loss: 0.9777 - val_accuracy: 0.6666\n",
      "Epoch 5/25\n",
      "3487/3487 [==============================] - 463s 133ms/step - loss: 0.1181 - accuracy: 0.9578 - val_loss: 4.5425 - val_accuracy: 0.4100\n",
      "Epoch 6/25\n",
      "3487/3487 [==============================] - 461s 132ms/step - loss: 0.1057 - accuracy: 0.9628 - val_loss: 0.5506 - val_accuracy: 0.8205\n",
      "Epoch 7/25\n",
      "3487/3487 [==============================] - 459s 132ms/step - loss: 0.0952 - accuracy: 0.9664 - val_loss: 0.1949 - val_accuracy: 0.9356\n",
      "Epoch 8/25\n",
      "3487/3487 [==============================] - 453s 130ms/step - loss: 0.0884 - accuracy: 0.9694 - val_loss: 0.1917 - val_accuracy: 0.9295\n",
      "Epoch 9/25\n",
      "3487/3487 [==============================] - 465s 133ms/step - loss: 0.0822 - accuracy: 0.9712 - val_loss: 0.3628 - val_accuracy: 0.8751\n",
      "Epoch 10/25\n",
      "3487/3487 [==============================] - 536s 154ms/step - loss: 0.0752 - accuracy: 0.9736 - val_loss: 0.3060 - val_accuracy: 0.8897\n",
      "Epoch 11/25\n",
      "3487/3487 [==============================] - 459s 132ms/step - loss: 0.0705 - accuracy: 0.9751 - val_loss: 0.1380 - val_accuracy: 0.9505\n",
      "Epoch 12/25\n",
      "3487/3487 [==============================] - 469s 134ms/step - loss: 0.0651 - accuracy: 0.9774 - val_loss: 0.1578 - val_accuracy: 0.9508\n",
      "Epoch 13/25\n",
      "3487/3487 [==============================] - 451s 129ms/step - loss: 0.0608 - accuracy: 0.9787 - val_loss: 0.7913 - val_accuracy: 0.7785\n",
      "Epoch 14/25\n",
      "3487/3487 [==============================] - 455s 131ms/step - loss: 0.0571 - accuracy: 0.9801 - val_loss: 0.3904 - val_accuracy: 0.8700\n",
      "Epoch 15/25\n",
      "3487/3487 [==============================] - 492s 141ms/step - loss: 0.0543 - accuracy: 0.9811 - val_loss: 0.1682 - val_accuracy: 0.9369\n",
      "Epoch 16/25\n",
      "3487/3487 [==============================] - 481s 138ms/step - loss: 0.0508 - accuracy: 0.9827 - val_loss: 0.5230 - val_accuracy: 0.8604\n",
      "Epoch 17/25\n",
      "3487/3487 [==============================] - 455s 130ms/step - loss: 0.0477 - accuracy: 0.9837 - val_loss: 0.1178 - val_accuracy: 0.9562\n",
      "Epoch 18/25\n",
      "3487/3487 [==============================] - 472s 135ms/step - loss: 0.0468 - accuracy: 0.9837 - val_loss: 1.2502 - val_accuracy: 0.7472\n",
      "Epoch 19/25\n",
      "3487/3487 [==============================] - 500s 144ms/step - loss: 0.0427 - accuracy: 0.9856 - val_loss: 0.4244 - val_accuracy: 0.8722\n",
      "Epoch 20/25\n",
      "3487/3487 [==============================] - 473s 136ms/step - loss: 0.0419 - accuracy: 0.9853 - val_loss: 1.2573 - val_accuracy: 0.6739\n",
      "Epoch 21/25\n",
      "3487/3487 [==============================] - 445s 128ms/step - loss: 0.0387 - accuracy: 0.9868 - val_loss: 0.1728 - val_accuracy: 0.9479\n",
      "Epoch 22/25\n",
      "3487/3487 [==============================] - 452s 130ms/step - loss: 0.0369 - accuracy: 0.9875 - val_loss: 0.1522 - val_accuracy: 0.9555\n",
      "Epoch 23/25\n",
      "3487/3487 [==============================] - 510s 146ms/step - loss: 0.0359 - accuracy: 0.9879 - val_loss: 0.1878 - val_accuracy: 0.9462\n",
      "Epoch 24/25\n",
      "3487/3487 [==============================] - 525s 151ms/step - loss: 0.0342 - accuracy: 0.9882 - val_loss: 0.1409 - val_accuracy: 0.9516\n",
      "Epoch 25/25\n",
      "3487/3487 [==============================] - 478s 137ms/step - loss: 0.0332 - accuracy: 0.9888 - val_loss: 0.2732 - val_accuracy: 0.9188\n"
     ]
    }
   ],
   "source": [
    "r = AlexNet.fit(train_generator , validation_data=(x_valid, y_valid), steps_per_epoch = spe ,epochs=EPOCHS, callbacks = [checkpoint]  )"
   ]
  },
  {
   "cell_type": "code",
   "execution_count": 13,
   "id": "transsexual-looking",
   "metadata": {},
   "outputs": [
    {
     "data": {
      "image/png": "[encoded data removed]",
      "text/plain": [
       "<Figure size 432x288 with 1 Axes>"
      ]
     },
     "metadata": {
      "needs_background": "light"
     },
     "output_type": "display_data"
    }
   ],
   "source": [
    "plt.plot(r.history[\"loss\"], label= \"Loss\")\n",
    "plt.plot(r.history[\"val_loss\"], label = \"val_Loss\")\n",
    "plt.legend();"
   ]
  },
  {
   "cell_type": "code",
   "execution_count": 14,
   "id": "another-general",
   "metadata": {},
   "outputs": [
    {
     "data": {
      "image/png": "[encoded data removed]",
      "text/plain": [
       "<Figure size 432x288 with 1 Axes>"
      ]
     },
     "metadata": {
      "needs_background": "light"
     },
     "output_type": "display_data"
    }
   ],
   "source": [
    "plt.plot(r.history[\"accuracy\"] ,label = \"Accuracy\")\n",
    "plt.plot(r.history[\"val_accuracy\"] ,label = \"Val_Accuracy\")\n",
    "plt.legend();"
   ]
  },
  {
   "cell_type": "code",
   "execution_count": 15,
   "id": "conditional-fitting",
   "metadata": {},
   "outputs": [],
   "source": [
    "pd.DataFrame(r.history).to_csv(\"AlexNet.csv\",index=False)"
   ]
  },
  {
   "cell_type": "code",
   "execution_count": 18,
   "id": "athletic-tribune",
   "metadata": {},
   "outputs": [],
   "source": [
    "AlexNet.save(\"models/AlexNet/AlexNet.h5\")"
   ]
  }
 ],
 "metadata": {
  "kernelspec": {
   "display_name": "Python 3",
   "language": "python",
   "name": "python3"
  },
  "language_info": {
   "codemirror_mode": {
    "name": "ipython",
    "version": 3
   },
   "file_extension": ".py",
   "mimetype": "text/x-python",
   "name": "python",
   "nbconvert_exporter": "python",
   "pygments_lexer": "ipython3",
   "version": "3.6.13"
  }
 },
 "nbformat": 4,
 "nbformat_minor": 5
}
