{
 "cells": [
  {
   "cell_type": "markdown",
   "id": "headed-least",
   "metadata": {},
   "source": [
    "## IMPORTS"
   ]
  },
  {
   "cell_type": "code",
   "execution_count": 1,
   "id": "armed-curve",
   "metadata": {},
   "outputs": [],
   "source": [
    "import tensorflow as tf\n",
    "import numpy as np \n",
    "import pandas as pd\n",
    "import matplotlib.pyplot as plt\n",
    "import cv2\n",
    "import os"
   ]
  },
  {
   "cell_type": "code",
   "execution_count": 2,
   "id": "collaborative-shareware",
   "metadata": {},
   "outputs": [],
   "source": [
    "from functions import train_index_updater\n",
    "from functions import data_constructor\n",
    "from functions import dataframe_generator\n",
    "from functions import index_generator\n",
    "from functions import load_labels"
   ]
  },
  {
   "cell_type": "markdown",
   "id": "selected-decade",
   "metadata": {},
   "source": [
    "## SETTING UP PARAMETERS AND DIRECTORIES"
   ]
  },
  {
   "cell_type": "code",
   "execution_count": 3,
   "id": "valid-guest",
   "metadata": {},
   "outputs": [],
   "source": [
    "SEED = 12\n",
    "IMG_HEIGHT = 128\n",
    "IMG_WIDTH = 128\n",
    "DIM = (IMG_HEIGHT, IMG_WIDTH)\n",
    "TRAIN_SET= 143778\n",
    "VALID_SET= 25486\n",
    "EPOCHS = 25\n",
    "BS = 32\n",
    "LR = 0.0003\n",
    "n=50000\n",
    "label_file_train = \"C:\\project\\data\\\\train_COVIDx_CT-2A.txt\"\n",
    "label_file_valid = \"C:\\project\\data\\\\val_COVIDx_CT-2A.txt\""
   ]
  },
  {
   "cell_type": "markdown",
   "id": "little-summer",
   "metadata": {},
   "source": [
    "## LOADING DATA"
   ]
  },
  {
   "cell_type": "code",
   "execution_count": 4,
   "id": "curious-shelf",
   "metadata": {},
   "outputs": [
    {
     "data": {
      "image/png": "[encoded data removed]",
      "text/plain": [
       "<Figure size 432x288 with 1 Axes>"
      ]
     },
     "metadata": {
      "needs_background": "light"
     },
     "output_type": "display_data"
    }
   ],
   "source": [
    "fnames_train , classes_train ,bboxes_train = load_labels(label_file_train)\n",
    "fnames_valid , classes_valid ,bboxes_valid = load_labels(label_file_valid)\n",
    "train_index = index_generator(fnames_train , TRAIN_SET)\n",
    "valid_index = index_generator(fnames_valid , VALID_SET)\n",
    "train_index_updated = train_index_updater(classes_train,train_index,n )\n",
    "df = dataframe_generator(train_index_updated, valid_index , classes_train , classes_valid)\n",
    "df.plot.bar( title = \"Image Distribution\" );"
   ]
  },
  {
   "cell_type": "markdown",
   "id": "neutral-wallace",
   "metadata": {},
   "source": [
    "## Loading Training and Validation Images"
   ]
  },
  {
   "cell_type": "code",
   "execution_count": 5,
   "id": "otherwise-market",
   "metadata": {},
   "outputs": [],
   "source": [
    "x_train, y_train = data_constructor(fnames_train,classes_train, DIM , index  =train_index_updated ,bboxes = bboxes_train )\n",
    "x_valid , y_valid= data_constructor(fnames_valid,classes_valid, DIM , index  =valid_index , bboxes = bboxes_valid )"
   ]
  },
  {
   "cell_type": "markdown",
   "id": "according-affect",
   "metadata": {},
   "source": [
    "## Pre-Processing"
   ]
  },
  {
   "cell_type": "code",
   "execution_count": 6,
   "id": "8c9aaa9e",
   "metadata": {},
   "outputs": [],
   "source": [
    "x_train = tf.keras.applications.resnet_v2.preprocess_input(x_train)\n",
    "x_valid = tf.keras.applications.resnet_v2.preprocess_input(x_valid)"
   ]
  },
  {
   "cell_type": "code",
   "execution_count": 7,
   "id": "irish-medicaid",
   "metadata": {},
   "outputs": [],
   "source": [
    "data_generator = tf.keras.preprocessing.image.ImageDataGenerator(horizontal_flip=True,zoom_range=0.05,width_shift_range=0.2 ,height_shift_range=0.1,shear_range=0.05)## ENTER YOUR AUG HERE\n",
    "train_generator = data_generator.flow(x_train, y_train, BS)\n",
    "spe = x_train.shape[0] // BS"
   ]
  },
  {
   "cell_type": "markdown",
   "id": "polished-dealer",
   "metadata": {},
   "source": [
    "## MODEL DESIGN"
   ]
  },
  {
   "cell_type": "code",
   "execution_count": 8,
   "id": "honest-declaration",
   "metadata": {},
   "outputs": [],
   "source": [
    "from tensorflow.keras.applications import ResNet152V2\n",
    "from tensorflow.keras.layers import GlobalAveragePooling2D\n",
    "from tensorflow.keras.layers import Dropout\n",
    "from tensorflow.keras.layers import Dense\n",
    "from tensorflow.keras.layers import Input\n",
    "from tensorflow.keras.models import Model\n",
    "from tensorflow.keras.layers import Dropout"
   ]
  },
  {
   "cell_type": "code",
   "execution_count": 9,
   "id": "religious-creator",
   "metadata": {},
   "outputs": [],
   "source": [
    "base_model = ResNet152V2(include_top=False,weights=\"imagenet\",input_shape=(IMG_HEIGHT,IMG_HEIGHT,3))\n",
    "model= tf.keras.Sequential()\n",
    "model.add(base_model) \n",
    "model.add(GlobalAveragePooling2D())\n",
    "model.add(Dense(3,activation=('softmax')))"
   ]
  },
  {
   "cell_type": "code",
   "execution_count": 10,
   "id": "joint-avenue",
   "metadata": {},
   "outputs": [
    {
     "name": "stdout",
     "output_type": "stream",
     "text": [
      "Model: \"sequential\"\n",
      "_________________________________________________________________\n",
      "Layer (type)                 Output Shape              Param #   \n",
      "=================================================================\n",
      "resnet152v2 (Model)          (None, 4, 4, 2048)        58331648  \n",
      "_________________________________________________________________\n",
      "global_average_pooling2d (Gl (None, 2048)              0         \n",
      "_________________________________________________________________\n",
      "dense (Dense)                (None, 3)                 6147      \n",
      "=================================================================\n",
      "Total params: 58,337,795\n",
      "Trainable params: 58,194,051\n",
      "Non-trainable params: 143,744\n",
      "_________________________________________________________________\n"
     ]
    }
   ],
   "source": [
    "model.summary()"
   ]
  },
  {
   "cell_type": "code",
   "execution_count": 11,
   "id": "radio-anime",
   "metadata": {},
   "outputs": [],
   "source": [
    "model.compile(optimizer=tf.keras.optimizers.SGD(LR),\n",
    "              loss = \"sparse_categorical_crossentropy\",\n",
    "              metrics = [\"accuracy\"])"
   ]
  },
  {
   "cell_type": "code",
   "execution_count": 12,
   "id": "aerial-attachment",
   "metadata": {},
   "outputs": [],
   "source": [
    "from tensorflow.keras.callbacks import ModelCheckpoint\n",
    "modelsdir = \"models/ResNet\"\n",
    "checkpoint = ModelCheckpoint(filepath = modelsdir + \"/SGD.{epoch:02d}-{val_accuracy:.4f}.h5\" ,\n",
    "                             monitor= \"val_accuracy\" , \n",
    "                             mode = \"max\",\n",
    "                            verbose = 0,\n",
    "                            save_best_only=True)"
   ]
  },
  {
   "cell_type": "code",
   "execution_count": 13,
   "id": "closed-wonder",
   "metadata": {},
   "outputs": [
    {
     "name": "stdout",
     "output_type": "stream",
     "text": [
      "WARNING:tensorflow:sample_weight modes were coerced from\n",
      "  ...\n",
      "    to  \n",
      "  ['...']\n",
      "Train for 3487 steps, validate on 25486 samples\n",
      "Epoch 1/25\n",
      "3487/3487 [==============================] - 1502s 431ms/step - loss: 0.4276 - accuracy: 0.8292 - val_loss: 0.3148 - val_accuracy: 0.8944\n",
      "Epoch 2/25\n",
      "3487/3487 [==============================] - 1484s 426ms/step - loss: 0.2044 - accuracy: 0.9260 - val_loss: 0.2338 - val_accuracy: 0.9164\n",
      "Epoch 3/25\n",
      "3487/3487 [==============================] - 1492s 428ms/step - loss: 0.1568 - accuracy: 0.9441 - val_loss: 0.2106 - val_accuracy: 0.9286\n",
      "Epoch 4/25\n",
      "3487/3487 [==============================] - 1495s 429ms/step - loss: 0.1287 - accuracy: 0.9540 - val_loss: 0.1906 - val_accuracy: 0.9353\n",
      "Epoch 5/25\n",
      "3487/3487 [==============================] - 1497s 429ms/step - loss: 0.1113 - accuracy: 0.9613 - val_loss: 0.1846 - val_accuracy: 0.9401\n",
      "Epoch 6/25\n",
      "3487/3487 [==============================] - 1488s 427ms/step - loss: 0.0964 - accuracy: 0.9663 - val_loss: 0.1777 - val_accuracy: 0.9411\n",
      "Epoch 7/25\n",
      "3487/3487 [==============================] - 1492s 428ms/step - loss: 0.0869 - accuracy: 0.9703 - val_loss: 0.1825 - val_accuracy: 0.9413\n",
      "Epoch 8/25\n",
      "3487/3487 [==============================] - 1492s 428ms/step - loss: 0.0774 - accuracy: 0.9735 - val_loss: 0.1666 - val_accuracy: 0.9468\n",
      "Epoch 9/25\n",
      "3487/3487 [==============================] - 1493s 428ms/step - loss: 0.0706 - accuracy: 0.9757 - val_loss: 0.1819 - val_accuracy: 0.9469\n",
      "Epoch 10/25\n",
      "3487/3487 [==============================] - 1498s 430ms/step - loss: 0.0638 - accuracy: 0.9783 - val_loss: 0.1635 - val_accuracy: 0.9504\n",
      "Epoch 11/25\n",
      "3487/3487 [==============================] - 1498s 429ms/step - loss: 0.0590 - accuracy: 0.9802 - val_loss: 0.1595 - val_accuracy: 0.9506\n",
      "Epoch 12/25\n",
      "3487/3487 [==============================] - 1499s 430ms/step - loss: 0.0534 - accuracy: 0.9818 - val_loss: 0.1681 - val_accuracy: 0.9518\n",
      "Epoch 13/25\n",
      "3487/3487 [==============================] - 1501s 430ms/step - loss: 0.0500 - accuracy: 0.9831 - val_loss: 0.1522 - val_accuracy: 0.9552\n",
      "Epoch 14/25\n",
      "3487/3487 [==============================] - 1497s 429ms/step - loss: 0.0458 - accuracy: 0.9844 - val_loss: 0.1787 - val_accuracy: 0.9542\n",
      "Epoch 15/25\n",
      "3487/3487 [==============================] - 1500s 430ms/step - loss: 0.0424 - accuracy: 0.9857 - val_loss: 0.1655 - val_accuracy: 0.9553\n",
      "Epoch 16/25\n",
      "3487/3487 [==============================] - 1501s 431ms/step - loss: 0.0398 - accuracy: 0.9867 - val_loss: 0.1582 - val_accuracy: 0.9569\n",
      "Epoch 17/25\n",
      "3487/3487 [==============================] - 1502s 431ms/step - loss: 0.0364 - accuracy: 0.9879 - val_loss: 0.1473 - val_accuracy: 0.9591\n",
      "Epoch 18/25\n",
      "3487/3487 [==============================] - 1499s 430ms/step - loss: 0.0348 - accuracy: 0.9881 - val_loss: 0.1397 - val_accuracy: 0.9605\n",
      "Epoch 19/25\n",
      "3487/3487 [==============================] - 1500s 430ms/step - loss: 0.0314 - accuracy: 0.9897 - val_loss: 0.1631 - val_accuracy: 0.9567\n",
      "Epoch 20/25\n",
      "3487/3487 [==============================] - 1502s 431ms/step - loss: 0.0292 - accuracy: 0.9907 - val_loss: 0.1619 - val_accuracy: 0.9584\n",
      "Epoch 21/25\n",
      "3487/3487 [==============================] - 1501s 430ms/step - loss: 0.0270 - accuracy: 0.9908 - val_loss: 0.1591 - val_accuracy: 0.9600\n",
      "Epoch 22/25\n",
      "3487/3487 [==============================] - 1502s 431ms/step - loss: 0.0261 - accuracy: 0.9913 - val_loss: 0.1644 - val_accuracy: 0.9592\n",
      "Epoch 23/25\n",
      "3487/3487 [==============================] - 1503s 431ms/step - loss: 0.0243 - accuracy: 0.9919 - val_loss: 0.1654 - val_accuracy: 0.9584\n",
      "Epoch 24/25\n",
      "3487/3487 [==============================] - 1501s 431ms/step - loss: 0.0238 - accuracy: 0.9924 - val_loss: 0.1555 - val_accuracy: 0.9604\n",
      "Epoch 25/25\n",
      "3487/3487 [==============================] - 1501s 431ms/step - loss: 0.0219 - accuracy: 0.9929 - val_loss: 0.1538 - val_accuracy: 0.9605\n"
     ]
    }
   ],
   "source": [
    "r = model.fit(train_generator , validation_data=(x_valid, y_valid), steps_per_epoch = spe ,epochs=EPOCHS, callbacks = [checkpoint]  )"
   ]
  },
  {
   "cell_type": "code",
   "execution_count": 14,
   "id": "transsexual-looking",
   "metadata": {},
   "outputs": [
    {
     "data": {
      "image/png": "[encoded data removed]",
      "text/plain": [
       "<Figure size 432x288 with 1 Axes>"
      ]
     },
     "metadata": {
      "needs_background": "light"
     },
     "output_type": "display_data"
    }
   ],
   "source": [
    "plt.plot(r.history[\"loss\"], label= \"Loss\")\n",
    "plt.plot(r.history[\"val_loss\"], label = \"val_Loss\")\n",
    "plt.legend();"
   ]
  },
  {
   "cell_type": "code",
   "execution_count": 15,
   "id": "another-general",
   "metadata": {},
   "outputs": [
    {
     "data": {
      "image/png": "[encoded data removed]",
      "text/plain": [
       "<Figure size 432x288 with 1 Axes>"
      ]
     },
     "metadata": {
      "needs_background": "light"
     },
     "output_type": "display_data"
    }
   ],
   "source": [
    "plt.plot(r.history[\"accuracy\"] ,label = \"Accuracy\")\n",
    "plt.plot(r.history[\"val_accuracy\"] ,label = \"Val_Accuracy\")\n",
    "plt.legend();"
   ]
  },
  {
   "cell_type": "code",
   "execution_count": 16,
   "id": "conditional-fitting",
   "metadata": {},
   "outputs": [],
   "source": [
    "pd.DataFrame(r.history).to_csv(\"csv/ResNet.csv\",index=False)"
   ]
  },
  {
   "cell_type": "code",
   "execution_count": 17,
   "id": "athletic-tribune",
   "metadata": {},
   "outputs": [],
   "source": [
    "model.save(\"models/ResNet/ResNet.h5\")"
   ]
  }
 ],
 "metadata": {
  "kernelspec": {
   "display_name": "Python 3",
   "language": "python",
   "name": "python3"
  },
  "language_info": {
   "codemirror_mode": {
    "name": "ipython",
    "version": 3
   },
   "file_extension": ".py",
   "mimetype": "text/x-python",
   "name": "python",
   "nbconvert_exporter": "python",
   "pygments_lexer": "ipython3",
   "version": "3.6.13"
  }
 },
 "nbformat": 4,
 "nbformat_minor": 5
}
